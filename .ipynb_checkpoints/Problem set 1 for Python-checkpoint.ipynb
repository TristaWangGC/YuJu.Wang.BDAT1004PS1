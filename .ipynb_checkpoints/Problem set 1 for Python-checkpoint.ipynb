{
 "cells": [
  {
   "cell_type": "markdown",
   "metadata": {},
   "source": [
    "# <h1 style=\"font-size:3rem;color:blue;\">Problem Set 1</h1>"
   ]
  },
  {
   "cell_type": "markdown",
   "metadata": {},
   "source": [
    "### Question 6 Python: You can turn a word into pig-Latin using the following two rules(simplified): \n",
    "### a. If the word starts with a consonant, move that letter to the end and append 'ay'. For example, 'happy' becomes 'appyhay' and 'pencil' becomes 'encilpay'.\n",
    "### b. If the word starts with a vowel, simply append 'way' to the end of the word. For example, 'enter' becomes 'enterway' and 'other' become 'otherway'. For our purposes, there are 5 vowels: a, e, i, o, u ( so we count y as a consonant).\n",
    "### Write a function pig() that takes a word (i.e., a string) as input and returns its pig-Latin form. Your function should still work if the input word contains upper case characters. Your output should always be lower case however."
   ]
  },
  {
   "cell_type": "code",
   "execution_count": 1,
   "metadata": {},
   "outputs": [
    {
     "name": "stdout",
     "output_type": "stream",
     "text": [
      "appyhay\n",
      "enterway\n"
     ]
    }
   ],
   "source": [
    "def pig(str):\n",
    "    #change the letter to lower case\n",
    "    fir_char = str[0].lower()\n",
    "    #confirm the thist char is vowels or consonant\n",
    "    if fir_char in ['a', 'e', 'i', 'o', 'u']:\n",
    "        #if the char is vowels, do the action and print\n",
    "        re_str = str + 'way'\n",
    "        print(re_str.lower())\n",
    "    elif fir_char in list('bcdfghjklmnpqrstvwxyz'):\n",
    "        #if char is consonant, do the action and print\n",
    "        re_str = str[1:len(str)] + str[0] + 'ay'\n",
    "        print(re_str.lower())\n",
    "pig('happy')\n",
    "pig('Enter')"
   ]
  },
  {
   "cell_type": "markdown",
   "metadata": {},
   "source": [
    "### Question 7 Python: File bloodtype1.txt records blood-types of patients (A, B, AB, O or OO) at a clinic. Write a function bldcount() that reads the file with name name and reports (i.e., prints) how many patients there are in each bloodtype."
   ]
  },
  {
   "cell_type": "code",
   "execution_count": 2,
   "metadata": {},
   "outputs": [
    {
     "name": "stdout",
     "output_type": "stream",
     "text": [
      "There are 15 patients of blood type A.\n",
      "There is one patient of blood type B.\n",
      "There are 13 patients of blood type AB.\n",
      "There are 15 patients of blood type O.\n",
      "There are no patients of blood type OO.\n"
     ]
    }
   ],
   "source": [
    "def bldcount(filename):\n",
    "    #read and close the file\n",
    "    read_file = open(filename)\n",
    "    data = read_file.read()\n",
    "    read_file.close()\n",
    "    #search the blood type \n",
    "    for i in ['A', 'B', 'AB', 'O', 'OO']:\n",
    "        #count the blood type\n",
    "        wordnum = data.split().count(i)\n",
    "        #this if elif is change the different print style, cuz some need to use are some for is\n",
    "        if wordnum == 1:\n",
    "            print(\"There is one patient of blood type {0}.\".format(i))\n",
    "        elif wordnum == 0:\n",
    "            print(\"There are no patients of blood type {0}.\".format(i))\n",
    "        else:\n",
    "            print(\"There are {0} patients of blood type {1}.\".format(wordnum, i) )\n",
    "# run function\n",
    "bldcount('bloodtype1.txt')"
   ]
  },
  {
   "cell_type": "markdown",
   "metadata": {},
   "source": [
    "### Question 8 Python: Write a function curconv() that takes as input:\n",
    "### 1. a currency represented using a string(e.g., 'JPY' for the Jananese Yen or 'EUR' for the Euro)\n",
    "### 2. an amount\n",
    "### The currecy rates you will need are stored in file currencies.txt"
   ]
  },
  {
   "cell_type": "code",
   "execution_count": 3,
   "metadata": {},
   "outputs": [
    {
     "name": "stdout",
     "output_type": "stream",
     "text": [
      "122.96544\n",
      "1.241401\n"
     ]
    }
   ],
   "source": [
    "# import pandas as pd\n",
    "def curconv(money_type, amount):\n",
    "    #read and close file\n",
    "    read_file = open('currencies.txt')\n",
    "    #split the file by space and to be a list, and the order is money_type, rate, country dollar \n",
    "    data = read_file.read().split()\n",
    "    read_file.close()\n",
    "    if money_type in data:\n",
    "        rate_index = data.index(money_type)\n",
    "        rate = data[rate_index+1]\n",
    "        print(amount*float(rate))\n",
    "\n",
    "    else:\n",
    "        print(\"Your currency is not in my data set, please choose other currency.\")\n",
    "    \n",
    "#     Pandas Method --- Don't forget use the first line to import pandas\n",
    "#     #read the file and use no header\n",
    "#     read_file = pd.read_table('currencies.txt', header = None)\n",
    "    \n",
    "#     if money_type in list(read_file[0]):\n",
    "#         rate_index = read_file[read_file[0]==money_type].index.tolist()[0]\n",
    "#         rate = read_file[1][rate_index]\n",
    "#         print(amount*rate)\n",
    "#     else:\n",
    "#         print(\"Your currency is not in my data set, please choose other currency.\")\n",
    "curconv('EUR', 100)\n",
    "curconv('JPY', 100)"
   ]
  },
  {
   "cell_type": "markdown",
   "metadata": {},
   "source": [
    "###  Question 9 Python: Each of following will cause an exception (an error). Identify what type of exception each will cause."
   ]
  },
  {
   "cell_type": "markdown",
   "metadata": {},
   "source": [
    "##### Solution\n",
    "##### Try to add incompatible variables, as in adding 6+'a': \n",
    "TyprError, This will be unsupported perand type error, because 'int' and 'str' cannot be add.\n",
    "##### Referring to the $12^{th}$ item of a list that has only 10 items: \n",
    "IndexError, List index out of range, because the list only have 10 items\n",
    "##### Using a value that is out of range for a function's input, such as calling $math.sqrt(-1.0)$\n",
    "ValeError, Math domain error, you cannot root the negative value\n",
    "##### Using an undeclared variable, such as $print(x)$ when $x$ has not been defined.\n",
    "NameError, python will show name 'x' is not defined.\n",
    "##### Trying to open a file that does not exist, such as mistyping the file name or looking in the wrong directory: \n",
    "FileNotFoundError, It will show \"File does not exist\", python system cannot find the file"
   ]
  },
  {
   "cell_type": "markdown",
   "metadata": {},
   "source": [
    "### Question 10 Python: $Encryption$ is the process of hiding the meaning of a text by substituting letters in the message with other letters, according to some system. If the process is successful, no one but the intended recipient can understand the encrypted message. $Cryptanalysis$ refers to attempts to undo the encryption, even if some details of the encryption are unknown (for example, if an encrypted message has been intercepted). The first step of cryptanalysis is often to build up a table of letter frequencies in the encrypted text. assume that the string $letters$ is already defined as '$abcdefghijklmnopqrstuvwxyz$'. Write a function called $frequencies()$ that takes a string as its only parameter, and return a list of integers, showing the number of times each character appears in the text. Your function may ignore any characters that are not in letters"
   ]
  },
  {
   "cell_type": "code",
   "execution_count": 4,
   "metadata": {},
   "outputs": [
    {
     "name": "stdout",
     "output_type": "stream",
     "text": [
      "[1, 1, 1, 3, 5, 1, 1, 2, 1, 0, 1, 0, 1, 2, 4, 0, 1, 2, 0, 2, 1, 0, 1, 1, 0, 0]\n",
      "[1, 0, 0, 0, 1, 0, 0, 0, 0, 0, 0, 1, 0, 0, 0, 2, 0, 0, 0, 0, 0, 0, 0, 0, 0, 0]\n"
     ]
    }
   ],
   "source": [
    "def frequencies(freq_str):\n",
    "    # define the letters\n",
    "    letters = 'abcdefghijklmnopqrstuvwxyz'\n",
    "    letters_list = list(letters)\n",
    "    # define '0' list 26 bit, to storage the frequency \n",
    "    count_letters = [0]*26\n",
    "    # define a list to storage unknown char\n",
    "    unknow_char = []\n",
    "\n",
    "    # this for loop is not include the upper case of char\n",
    "    for i in list(freq_str):\n",
    "        if i in letters_list:\n",
    "            char_index = letters_list.index(i)\n",
    "            count_letters[char_index] = count_letters[char_index]+1   \n",
    "        else:\n",
    "            # storage the unknown char in a list\n",
    "            unknown_char = unknow_char + [i]\n",
    "            # print(\"I cannot find the '{0}' in the letters.\".format(i))\n",
    "            \n",
    "            \n",
    "#     # this for loop is include the upper case of char \n",
    "#     # and turn the upper case to lower case\n",
    "#     for i in list(freq_str.lower()):\n",
    "#         if i in letters_list:\n",
    "#             char_index = letters_list.index(i)\n",
    "#             count_letters[char_index] = count_letters[char_index]+1   \n",
    "#         else:\n",
    "#             # storage the unknown char in a list\n",
    "#             unknown_char = unknow_char + [i]\n",
    "#             # print(\"I cannot find the '{0}' in the letters.\".format(i))\n",
    "\n",
    "\n",
    "    print(count_letters)\n",
    "    \n",
    "    \n",
    "frequencies('The quick red fox got bored and went home.')\n",
    "frequencies('apple')"
   ]
  }
 ],
 "metadata": {
  "kernelspec": {
   "display_name": "Python 3",
   "language": "python",
   "name": "python3"
  },
  "language_info": {
   "codemirror_mode": {
    "name": "ipython",
    "version": 3
   },
   "file_extension": ".py",
   "mimetype": "text/x-python",
   "name": "python",
   "nbconvert_exporter": "python",
   "pygments_lexer": "ipython3",
   "version": "3.7.6"
  }
 },
 "nbformat": 4,
 "nbformat_minor": 4
}
