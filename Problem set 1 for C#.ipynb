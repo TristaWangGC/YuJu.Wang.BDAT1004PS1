{
 "cells": [
  {
   "cell_type": "markdown",
   "metadata": {},
   "source": [
    "# <h1 style=\"font-size:3rem;color:blue;\">Problem Set 1</h1>"
   ]
  },
  {
   "cell_type": "markdown",
   "metadata": {},
   "source": [
    "### Question 1 C#: What data type is each of the following?"
   ]
  },
  {
   "cell_type": "code",
   "execution_count": 1,
   "metadata": {},
   "outputs": [
    {
     "name": "stdout",
     "output_type": "stream",
     "text": [
      "System.Int32\n"
     ]
    }
   ],
   "source": [
    "Console.WriteLine(5.GetType()); "
   ]
  },
  {
   "cell_type": "code",
   "execution_count": 2,
   "metadata": {},
   "outputs": [
    {
     "name": "stdout",
     "output_type": "stream",
     "text": [
      "System.Double\n"
     ]
    }
   ],
   "source": [
    "Console.WriteLine(5.0.GetType()); "
   ]
  },
  {
   "cell_type": "code",
   "execution_count": 3,
   "metadata": {},
   "outputs": [
    {
     "name": "stdout",
     "output_type": "stream",
     "text": [
      "System.Boolean\n"
     ]
    }
   ],
   "source": [
    "Object a = 5>1;\n",
    "Console.WriteLine(a.GetType()); "
   ]
  },
  {
   "cell_type": "code",
   "execution_count": 4,
   "metadata": {},
   "outputs": [
    {
     "name": "stdout",
     "output_type": "stream",
     "text": [
      "System.Char\n"
     ]
    }
   ],
   "source": [
    "Object a = '5';\n",
    "Console.WriteLine(a.GetType()); "
   ]
  },
  {
   "cell_type": "code",
   "execution_count": 5,
   "metadata": {},
   "outputs": [
    {
     "name": "stdout",
     "output_type": "stream",
     "text": [
      "System.Int32\n"
     ]
    }
   ],
   "source": [
    "Object a = 5*2;\n",
    "Console.WriteLine(a.GetType()); "
   ]
  },
  {
   "cell_type": "code",
   "execution_count": 6,
   "metadata": {},
   "outputs": [
    {
     "name": "stdout",
     "output_type": "stream",
     "text": [
      "System.Int32\n"
     ]
    }
   ],
   "source": [
    "Object a = '5'*2;\n",
    "Console.WriteLine(a.GetType()); "
   ]
  },
  {
   "cell_type": "code",
   "execution_count": 7,
   "metadata": {},
   "outputs": [
    {
     "name": "stdout",
     "output_type": "stream",
     "text": [
      "System.Int32\n"
     ]
    }
   ],
   "source": [
    "Object a = '5'+'2';\n",
    "Console.WriteLine(a.GetType()); "
   ]
  },
  {
   "cell_type": "code",
   "execution_count": 8,
   "metadata": {},
   "outputs": [
    {
     "name": "stdout",
     "output_type": "stream",
     "text": [
      "System.Int32\n"
     ]
    }
   ],
   "source": [
    "Object a = 5/2;\n",
    "Console.WriteLine(a.GetType()); "
   ]
  },
  {
   "cell_type": "code",
   "execution_count": 9,
   "metadata": {},
   "outputs": [
    {
     "name": "stdout",
     "output_type": "stream",
     "text": [
      "System.Int32\n"
     ]
    }
   ],
   "source": [
    "Object a = 5%2;\n",
    "Console.WriteLine(a.GetType()); "
   ]
  },
  {
   "cell_type": "code",
   "execution_count": 10,
   "metadata": {},
   "outputs": [
    {
     "name": "stdout",
     "output_type": "stream",
     "text": [
      "{5, 2, 1} is an array of Integer.\n"
     ]
    }
   ],
   "source": [
    "Console.WriteLine(\"{5, 2, 1} is an array of Integer.\"); "
   ]
  },
  {
   "cell_type": "code",
   "execution_count": 11,
   "metadata": {},
   "outputs": [
    {
     "name": "stdout",
     "output_type": "stream",
     "text": [
      "System.Boolean\n"
     ]
    }
   ],
   "source": [
    "Object a = 5 == 3;\n",
    "Console.WriteLine(a.GetType()); "
   ]
  },
  {
   "cell_type": "code",
   "execution_count": 12,
   "metadata": {},
   "outputs": [
    {
     "name": "stdout",
     "output_type": "stream",
     "text": [
      "System.Double\n"
     ]
    }
   ],
   "source": [
    "Object a = Math.PI;\n",
    "Console.WriteLine(a.GetType()); "
   ]
  },
  {
   "cell_type": "markdown",
   "metadata": {},
   "source": [
    "### Question 2 C#: Write(and evaluate) C# expressions that answer these question\""
   ]
  },
  {
   "cell_type": "markdown",
   "metadata": {},
   "source": [
    "### a. How many letters are there in 'Supercalifragilisticexpialidocious'?"
   ]
  },
  {
   "cell_type": "code",
   "execution_count": 13,
   "metadata": {},
   "outputs": [
    {
     "name": "stdout",
     "output_type": "stream",
     "text": [
      "The length of string 'Supercalifragilisticexpialidocious' is 34.\n"
     ]
    }
   ],
   "source": [
    "string Speletters = \"Supercalifragilisticexpialidocious\";\n",
    "Console.WriteLine(\"The length of string 'Supercalifragilisticexpialidocious' is {0}.\", Speletters.Length);"
   ]
  },
  {
   "cell_type": "markdown",
   "metadata": {},
   "source": [
    "### b. Does'Supercalifragilisticexpialidocious' contain 'ice' as a substring?"
   ]
  },
  {
   "cell_type": "code",
   "execution_count": 14,
   "metadata": {},
   "outputs": [
    {
     "name": "stdout",
     "output_type": "stream",
     "text": [
      "The sequence 'ice' was found.\n"
     ]
    }
   ],
   "source": [
    "string str = \"Supercalifragilisticexpialidocious\";\n",
    "if (str.Contains(\"ice\"))\n",
    "{\n",
    "    Console.WriteLine(\"The sequence 'ice' was found.\");\n",
    "}"
   ]
  },
  {
   "cell_type": "markdown",
   "metadata": {},
   "source": [
    "### c. Which of the following  words is the longest:\n",
    "    Supercalifragilisticexpialidocious, Honorificabilitudinitatibus, or Bababadalgharaghtakamminarronnkonn?"
   ]
  },
  {
   "cell_type": "code",
   "execution_count": 15,
   "metadata": {},
   "outputs": [
    {
     "name": "stdout",
     "output_type": "stream",
     "text": [
      "Max. Length is 34.\n",
      "Max. Length is 34.\n",
      "Supercalifragilisticexpialidocious\n",
      "Bababadalgharaghtakamminarronnkonn\n"
     ]
    }
   ],
   "source": [
    "string[] Speletters = {\"Supercalifragilisticexpialidocious\", \"Honorificabilitudinitatibus\", \"Bababadalgharaghtakamminarronnkonn\"};\n",
    "int [] Spelettersnolist = {Speletters[0].Length, Speletters[1].Length, Speletters[2].Length};\n",
    "\n",
    "int maxnum = Spelettersnolist[0];\n",
    "string[] arr = {};\n",
    "List<string> Maxstring = new List<string>(arr.ToList());\n",
    "\n",
    "for (int i = 0; i < Spelettersnolist.Length; i++)\n",
    "{\n",
    "    if (maxnum <= Spelettersnolist[i])\n",
    "    {\n",
    "        maxnum = Spelettersnolist[i];\n",
    "        Maxstring.Add(Speletters[i]);\n",
    "        arr = Maxstring.ToArray();\n",
    "        Console.WriteLine($\"Max. Length is {maxnum}.\");\n",
    "        \n",
    "    }\n",
    "}\n",
    "\n",
    "foreach(var e in arr)\n",
    "{\n",
    "    Console.WriteLine(e);\n",
    "}\n"
   ]
  },
  {
   "cell_type": "markdown",
   "metadata": {},
   "source": [
    "### d. Which composer comes first in the dictionary: 'Berlioz', 'Borodin', 'Brian', 'Bartok', 'Bellini', 'Buxtehude', 'Bernstein'. Which one comes last?"
   ]
  },
  {
   "cell_type": "code",
   "execution_count": 16,
   "metadata": {},
   "outputs": [
    {
     "name": "stdout",
     "output_type": "stream",
     "text": [
      "Buxtehude\n"
     ]
    }
   ],
   "source": [
    "string[] dicorder = { \"Berlioz\", \"Borodin\", \"Brian\", \"Bartok\", \"Bellini\", \"Buxtehude\", \"Bernstein\" };\n",
    "IEnumerable<string> sortdic = from word in dicorder  \n",
    "                            orderby word.Substring(0, 2)   \n",
    "                            select word;  \n",
    "\n",
    "Console.WriteLine(sortdic.LastOrDefault());"
   ]
  },
  {
   "cell_type": "markdown",
   "metadata": {},
   "source": [
    "### Question 3 C#: Implement function triangleArea(a, b, c) that takes as input the lengths of the 3 sides of a triangle and returns the area of the triangle. By Heron's formula, the are of a traingle with side lengths a, b, and c is $ \\sqrt{s(s-a)(s-b)(s-c)}$, where $s = (a+b+c)/2$"
   ]
  },
  {
   "cell_type": "code",
   "execution_count": 17,
   "metadata": {},
   "outputs": [
    {
     "name": "stdout",
     "output_type": "stream",
     "text": [
      "By Heron's formula, the Triangle Area of 3 sides = 1.7320508075688772\n"
     ]
    }
   ],
   "source": [
    "public class triangleArea\n",
    "{\n",
    "    public static Double CalArea(Double a, Double b, Double c)\n",
    "    {\n",
    "        Double s = (a+b+c)/2;\n",
    "        Double trArea = Math.Sqrt(s*(s-a)*(s-b)*(s-c));\n",
    "        return trArea;\n",
    "    }\n",
    "        //Double s = (a+b+c)/2;\n",
    "        //Double trArea = Math.Sqrt(s*(s-a)*(s-b)*(s-c));\n",
    "        //Console.WriteLine(trArea);\n",
    "        //return trArea;\n",
    "}\n",
    "Double returnvalue = triangleArea.CalArea(2, 2, 2);\n",
    "Console.WriteLine(\"By Heron's formula, the Triangle Area of 3 sides = {0}\", returnvalue);"
   ]
  },
  {
   "cell_type": "markdown",
   "metadata": {},
   "source": [
    "### Question 4 C#: Write a program in C# Sharp to separate odd and even integers in separate arrays. Go to the editer\n",
    "### Test Data : Input the number of elements to be stored in the array : 5\n",
    "### Input 5 elements in the array : element-0 : 25, element-1 : 47, element-2 : 42, element-3 : 56, element-4 : 32\n",
    "Expected Output : \n",
    "The Even elements are: \n",
    "42 56 32\n",
    "The Odd elements are: \n",
    "25 47"
   ]
  },
  {
   "cell_type": "code",
   "execution_count": 18,
   "metadata": {},
   "outputs": [
    {
     "name": "stdout",
     "output_type": "stream",
     "text": [
      "The Even elements are : 42 56 32\n",
      "The Odd elements are : 25 47\n"
     ]
    }
   ],
   "source": [
    "class Program\n",
    "{\n",
    "    public static string[] OddEven(string[] OriInt)\n",
    "    {\n",
    "        string []arr = new string[2];\n",
    "        \n",
    "        foreach (string i in OriInt)\n",
    "        {\n",
    "            if (int.Parse(i)%2 == 0)\n",
    "            {\n",
    "                arr[0] = arr[0] + \" \" + i;\n",
    "            }\n",
    "            else\n",
    "            {\n",
    "                arr[1] = arr[1] + \" \" + i;\n",
    "            }\n",
    "        }\n",
    "        return arr;\n",
    "    } \n",
    "}\n",
    "\n",
    "string[] OriInt = new string[]{\"25\", \"47\", \"42\", \"56\", \"32\"};\n",
    "string[] returnvalue = Program.OddEven(OriInt);\n",
    "Console.WriteLine(\"The Even elements are :{0}\", returnvalue[0]);\n",
    "Console.WriteLine(\"The Odd elements are :{0}\", returnvalue[1]);\n",
    "\n"
   ]
  },
  {
   "cell_type": "markdown",
   "metadata": {},
   "source": [
    "### Question 5 C#: "
   ]
  },
  {
   "cell_type": "markdown",
   "metadata": {},
   "source": [
    "### a. Write a function inside (x, y, x1, y1, x2, y2) that returns True or False depending on whether the point (x, y) lies in the rectangle with lower left corner (x1, y1) and upper right corner (x2, y2)."
   ]
  },
  {
   "cell_type": "code",
   "execution_count": 19,
   "metadata": {},
   "outputs": [
    {
     "name": "stdout",
     "output_type": "stream",
     "text": [
      "True\n",
      "False\n"
     ]
    }
   ],
   "source": [
    "class Program\n",
    "{   \n",
    "    public static string inside(double x, double y, double x1, double y1, double x2, double y2)\n",
    "    {\n",
    "        string ans = \"\";\n",
    "        //Console.WriteLine($\"Is the point ({x}, {y}) lies in the rectangle with lower left corner ({x1}, {y1}) and upper right corner ({x2}, {y2})?\");\n",
    "        if (x1<=x && x<=x2 && y1<=y && y<=y2)\n",
    "        {\n",
    "            ans = \"True\";\n",
    "        }\n",
    "        else\n",
    "        {\n",
    "            ans = \"False\";\n",
    "        }\n",
    "        return ans;\n",
    "    }\n",
    "}\n",
    "string reans1 = Program.inside(1, 1, 0, 0, 2, 3);\n",
    "Console.WriteLine(reans1);\n",
    "string reans2 = Program.inside(-1, -1, 0, 0, 2, 3);\n",
    "Console.WriteLine(reans2);\n"
   ]
  },
  {
   "cell_type": "markdown",
   "metadata": {},
   "source": [
    "### b. Use function inside() from part a. to write an expression that tests whether the point(1, 1) lies in both of the following rectangles: one with lower left corner (0.3, 0.5) and upper right corner (1.1, 0.7) and the other with lower left corner (0.5, 0.2) and upper right corner (1.1, 2)."
   ]
  },
  {
   "cell_type": "code",
   "execution_count": 20,
   "metadata": {},
   "outputs": [
    {
     "name": "stdout",
     "output_type": "stream",
     "text": [
      "False\n"
     ]
    }
   ],
   "source": [
    "string reans1 = Program.inside(1, 1, 0.3, 0.5, 1.1, 0.7);\n",
    "string reans2 = Program.inside(1, 1, 0.5, 0.2, 1.1, 2);\n",
    "if (reans1==\"True\" && reans2==\"True\")\n",
    "{\n",
    "    Console.WriteLine(\"True\");\n",
    "}\n",
    "else\n",
    "{\n",
    "    Console.WriteLine(\"False\");\n",
    "}\n"
   ]
  }
 ],
 "metadata": {
  "kernelspec": {
   "display_name": ".NET (C#)",
   "language": "C#",
   "name": ".net-csharp"
  },
  "language_info": {
   "file_extension": ".cs",
   "mimetype": "text/x-csharp",
   "name": "C#",
   "pygments_lexer": "csharp",
   "version": "8.0"
  }
 },
 "nbformat": 4,
 "nbformat_minor": 4
}
